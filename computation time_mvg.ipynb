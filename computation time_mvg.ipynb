{
 "cells": [
  {
   "cell_type": "code",
   "execution_count": 14,
   "id": "e30e3b7c",
   "metadata": {},
   "outputs": [
    {
     "data": {
      "application/vnd.jupyter.widget-view+json": {
       "model_id": "58f7d936807f43f09a1852b50acdb54b",
       "version_major": 2,
       "version_minor": 0
      },
      "text/plain": [
       "  0%|          | 0/110 [00:00<?, ?it/s]"
      ]
     },
     "metadata": {},
     "output_type": "display_data"
    },
    {
     "data": {
      "application/vnd.jupyter.widget-view+json": {
       "model_id": "33f16268ff844e3c8d40ab6bd0950419",
       "version_major": 2,
       "version_minor": 0
      },
      "text/plain": [
       "  0%|          | 0/1 [00:00<?, ?it/s]"
      ]
     },
     "metadata": {},
     "output_type": "display_data"
    },
    {
     "name": "stdout",
     "output_type": "stream",
     "text": [
      "features2_shape (49, 2048)\n",
      "0 mahalonobis distance ------------------------------>>>>>>> 37951.262362310714\n",
      "Runtime of the program is 11.031842231750488\n"
     ]
    },
    {
     "data": {
      "text/plain": [
       "(1,)"
      ]
     },
     "execution_count": 14,
     "metadata": {},
     "output_type": "execute_result"
    }
   ],
   "source": [
    "import cv2\n",
    "import os\n",
    "import numpy as np\n",
    "import tensorflow as tf\n",
    "import keras\n",
    "from sklearn.mixture import GaussianMixture\n",
    "from sklearn import mixture\n",
    "from scipy.spatial import distance\n",
    "from tqdm.notebook import tqdm\n",
    "import seaborn\n",
    "import matplotlib.pyplot as plt\n",
    "import time\n",
    "\n",
    "\n",
    "def load_images_from_folder(folder):\n",
    "    images = []\n",
    "    for filename in tqdm(sorted(os.listdir(folder))):\n",
    "        img = cv2.imread(os.path.join(folder,filename))\n",
    "        img = cv2.cvtColor(img, cv2.COLOR_BGR2RGB)\n",
    "        img = cv2.resize(img, (224, 224))\n",
    "        if img is not None:\n",
    "            images.append(img)\n",
    "    return np.array(images)\n",
    "\n",
    "path = load_images_from_folder(\"/home/ws575033/thesis_nb/Train_fin\")\n",
    "path.shape\n",
    "\n",
    "start = time.time()\n",
    "\n",
    "Xception = tf.keras.applications.Xception(\n",
    "    include_top=False,\n",
    "    weights=\"imagenet\",\n",
    "    input_tensor=None,\n",
    "    input_shape=(224, 224, 3),\n",
    "    pooling=None,\n",
    "    #classes=1000,\n",
    "    #classifier_activation=\"softmax\",\n",
    ")\n",
    "\n",
    "\n",
    "features = Xception.predict(\n",
    "    path,\n",
    "    batch_size=None,\n",
    "    verbose=0,\n",
    "    steps=None,\n",
    "    callbacks=None,\n",
    "    max_queue_size=10,\n",
    "    workers=1,\n",
    "    use_multiprocessing=False,\n",
    ")\n",
    "features.shape\n",
    "features_linear = features.reshape(-1, features.shape[-1])\n",
    "features_linear.shape\n",
    "\n",
    "from sklearn.mixture import GaussianMixture\n",
    "gm = GaussianMixture(n_components=1, random_state=0).fit(features_linear)\n",
    "inv_cov = np.linalg.inv(gm.covariances_)\n",
    "\n",
    "test_image = load_images_from_folder(\"/home/ws575033/thesis_nb/Data_set/grid_values/trolley\")\n",
    "dist_list=[]\n",
    "for i in range(len(test_image)):\n",
    "    tes = test_image[i]\n",
    "    tes = np.expand_dims(tes, axis=0)\n",
    "    #extract features\n",
    "    features2 = Xception.predict(\n",
    "    tes,\n",
    "    batch_size=None,\n",
    "    verbose=0,\n",
    "    steps=None,\n",
    "    callbacks=None,\n",
    "    max_queue_size=10,\n",
    "    workers=1,\n",
    "    use_multiprocessing=False,\n",
    "    )\n",
    "    \n",
    "    features2_linear = features2.reshape(-1, features2.shape[-1])\n",
    "    print(\"features2_shape\", features2_linear.shape)\n",
    "\n",
    "    maha = distance.cdist(gm.means_, features2_linear, 'mahalanobis', VI=inv_cov)\n",
    "    print(i, \"mahalonobis distance ------------------------------>>>>>>>\", maha.max())\n",
    "    \n",
    "    end = time.time()\n",
    "    print(f\"Runtime of the program is {end - start}\")\n",
    "    \n",
    "    dist_list.append(maha.max())\n",
    "dist_list = np.array(dist_list)\n",
    "dist_list.shape"
   ]
  },
  {
   "cell_type": "code",
   "execution_count": null,
   "id": "058e2d2c",
   "metadata": {},
   "outputs": [],
   "source": []
  }
 ],
 "metadata": {
  "kernelspec": {
   "display_name": "Python 3",
   "language": "python",
   "name": "python3"
  },
  "language_info": {
   "codemirror_mode": {
    "name": "ipython",
    "version": 3
   },
   "file_extension": ".py",
   "mimetype": "text/x-python",
   "name": "python",
   "nbconvert_exporter": "python",
   "pygments_lexer": "ipython3",
   "version": "3.6.8"
  }
 },
 "nbformat": 4,
 "nbformat_minor": 5
}
